{
 "cells": [
  {
   "cell_type": "markdown",
   "id": "f43bfcec-ca1e-4074-a55a-6b6c702376ae",
   "metadata": {},
   "source": [
    "### Preprocessing data\n",
    "\n",
    "scikit-learn requirements\n",
    "- numeric data\n",
    "- no missing values\n",
    "With real-world data:\n",
    "- this is rarely the case\n",
    "- we will often need to preprocess our data first\n",
    "\n",
    "Dealing with categorical features\n",
    "- scikit-learn will not accept categorical features by default\n",
    "- need to convert categorical features into numeric values\n",
    "- convert to binary features called dummy variables\n",
    "  - 0 : observation was NOT that category\n",
    "  - 1 : observation was that category"
   ]
  },
  {
   "cell_type": "code",
   "execution_count": 5,
   "id": "cffebbb5-dbaa-43df-b055-7b20f6579964",
   "metadata": {},
   "outputs": [
    {
     "name": "stdout",
     "output_type": "stream",
     "text": [
      "   Popularity  Genre_Anime  Genre_Blues  Genre_Classical  Genre_Country  \\\n",
      "0           0            1            0                0              0   \n",
      "1           1            0            1                0              0   \n",
      "2           0            0            0                1              0   \n",
      "3           1            0            0                0              1   \n",
      "4           0            0            0                0              0   \n",
      "\n",
      "   Genre_Electronic  Genre_Hip-Hop  Genre_Jazz  Genre_Rap  Genre_Rock  \n",
      "0                 0              0           0          0           0  \n",
      "1                 0              0           0          0           0  \n",
      "2                 0              0           0          0           0  \n",
      "3                 0              0           0          0           0  \n",
      "4                 1              0           0          0           0  \n",
      "   Genre_Classical  Genre_Electronic  Genre_Jazz  Genre_Rock  Popularity\n",
      "0            False             False       False       False       False\n",
      "1            False             False       False       False        True\n",
      "2             True             False       False       False       False\n",
      "3            False             False       False       False        True\n",
      "4            False              True       False       False       False\n"
     ]
    }
   ],
   "source": [
    "import pandas as pd\n",
    "import numpy as np\n",
    "# Read the CSV file containing dummy variables\n",
    "music_df = pd.read_csv(r\"C:\\Users\\anoushka chatterjee\\Desktop\\Data camp\\music_genre_with_popularity.csv\")\n",
    "\n",
    "# Print the first few rows to understand the structure\n",
    "print(music_df.head())\n",
    "\n",
    "# Assuming the CSV contains columns like 'Anime', 'Blues', etc.\n",
    "# Transform the dummy variables back into a single \"Genre\" column\n",
    "genre_columns = music_df.columns\n",
    "music_df['Genre'] = music_df[genre_columns].idxmax(axis=1)\n",
    "\n",
    "# Now create dummy variables from the \"Genre\" column\n",
    "music_dummies = pd.get_dummies(music_df[\"Genre\"], drop_first=True)\n",
    "\n",
    "print(music_dummies.head())"
   ]
  },
  {
   "cell_type": "code",
   "execution_count": 6,
   "id": "894d5bd0-0ecd-4df4-aece-3eebdbf429b1",
   "metadata": {},
   "outputs": [],
   "source": [
    "music_dummies = pd.concat([music_df, music_dummies], axis=1)\n",
    "music_dummies = music_dummies.drop(\"Genre\", axis=1)"
   ]
  },
  {
   "cell_type": "code",
   "execution_count": 7,
   "id": "6296cb64-0b84-4cea-8c06-2032709a0a3f",
   "metadata": {},
   "outputs": [
    {
     "name": "stdout",
     "output_type": "stream",
     "text": [
      "Index(['Popularity', 'Genre_Anime', 'Genre_Blues', 'Genre_Classical',\n",
      "       'Genre_Country', 'Genre_Electronic', 'Genre_Hip-Hop', 'Genre_Jazz',\n",
      "       'Genre_Rap', 'Genre_Rock', 'Genre_Genre_Classical',\n",
      "       'Genre_Genre_Electronic', 'Genre_Genre_Jazz', 'Genre_Genre_Rock',\n",
      "       'Genre_Popularity'],\n",
      "      dtype='object')\n"
     ]
    }
   ],
   "source": [
    "music_dummies = pd.get_dummies(music_df, drop_first=True)\n",
    "print(music_dummies.columns)"
   ]
  },
  {
   "cell_type": "code",
   "execution_count": 8,
   "id": "0f7dda52-c11b-4bfd-9bda-b0f792adae35",
   "metadata": {},
   "outputs": [
    {
     "name": "stdout",
     "output_type": "stream",
     "text": [
      "[0.28426252 0.31732388 0.21052632 0.21052632 0.21052632]\n"
     ]
    }
   ],
   "source": [
    "from sklearn.model_selection import cross_val_score, KFold\n",
    "from sklearn.linear_model import LinearRegression\n",
    "from sklearn.model_selection import train_test_split\n",
    "x = music_dummies.drop(\"Popularity\",axis=1).values\n",
    "y=music_dummies[\"Popularity\"].values\n",
    "x_train, x_test, y_train, y_test = train_test_split(x,y, test_size=0.2, random_state=42)\n",
    "\n",
    "kf=KFold(n_splits=5, shuffle=True, random_state=42)\n",
    "linreg = LinearRegression()\n",
    "linreg_cv = cross_val_score(linreg, x_train, y_train, cv=kf, scoring=\"neg_mean_squared_error\")\n",
    "print(np.sqrt(-linreg_cv))"
   ]
  },
  {
   "cell_type": "markdown",
   "id": "3907c39a-fe75-4a25-8338-8bfe1e9008c5",
   "metadata": {},
   "source": [
    "### Handling missing data\n",
    "\n",
    "Missing data:\n",
    "- no value for a feature in a particular row\n",
    "- this can occur because:\n",
    "  - there may have been no obervation\n",
    "  - the data might be corrupt"
   ]
  },
  {
   "cell_type": "code",
   "execution_count": 9,
   "id": "b6d66b41-6e09-4e8f-bded-af3650d22602",
   "metadata": {},
   "outputs": [
    {
     "name": "stdout",
     "output_type": "stream",
     "text": [
      "Popularity          0\n",
      "Genre_Anime         0\n",
      "Genre_Blues         0\n",
      "Genre_Classical     0\n",
      "Genre_Country       0\n",
      "Genre_Electronic    0\n",
      "Genre_Hip-Hop       0\n",
      "Genre_Jazz          0\n",
      "Genre_Rap           0\n",
      "Genre_Rock          0\n",
      "Genre               0\n",
      "dtype: int64\n"
     ]
    }
   ],
   "source": [
    "print(music_df.isna().sum().sort_values())"
   ]
  },
  {
   "cell_type": "code",
   "execution_count": 18,
   "id": "b251123c-22ff-48e5-865a-e9e021b1f77f",
   "metadata": {},
   "outputs": [
    {
     "data": {
      "text/plain": [
       "'\\nmusic_df= music_df.dropna(subset=[\"genre\",\"popularity\",\"loudness\",\"liveness\",\"tempo\"])\\nprint(music_df.isna().sum().sort_values())\\n'"
      ]
     },
     "execution_count": 18,
     "metadata": {},
     "output_type": "execute_result"
    }
   ],
   "source": [
    "\n",
    "## dropping missing data\n",
    "'''\n",
    "music_df= music_df.dropna(subset=[\"genre\",\"popularity\",\"loudness\",\"liveness\",\"tempo\"])\n",
    "print(music_df.isna().sum().sort_values())\n",
    "'''\n",
    "\n",
    "## we cant perform this because of insufficient dataset. i couldnt find the proper\n",
    "## dataset taught in the course"
   ]
  },
  {
   "cell_type": "markdown",
   "id": "80e8ca65-2897-489b-ba0a-5ddf66ef1eac",
   "metadata": {},
   "source": [
    "Imputing values\n",
    "- imputation - use subject matter expertise to replace missing data with educated guesses\n",
    "- common to use the mean\n",
    "- can also use the median or another value\n",
    "- for categorical values, we typically use the most frequent value- the mode\n",
    "- must split our data first, to avoid data leakage"
   ]
  },
  {
   "cell_type": "code",
   "execution_count": 16,
   "id": "f1175fa5-dc82-435f-ac6e-8294f5becac6",
   "metadata": {},
   "outputs": [
    {
     "data": {
      "text/plain": [
       "'\\nfrom sklearn.impute import SimpleImputer\\nx_cat= music_df[\"genre\"].values.reshape(-1,1)\\nx_num = music_df.drop([\"genre\",\"popularity\"],axis=1).values\\ny=music_df[\"popularity\"].values\\nx_train_cat, x_test_cat, y_train, y_test = train_test_split(x_cat, y, test_size=0.2, random_state=12)\\nx_train_num, x_test_num, y_train, y_test = train_test_split(x_num, y, test_size=0.2, random_state=12)\\nimp_cat=SimpleImputer(strategy=\"most_frequent\")\\nx_train_Cat=imp_cat.fit_transform(x_train_cat)\\nx_test_cat=imp_cat.tranform(x_test_cat)\\n'"
      ]
     },
     "execution_count": 16,
     "metadata": {},
     "output_type": "execute_result"
    }
   ],
   "source": [
    "'''\n",
    "from sklearn.impute import SimpleImputer\n",
    "x_cat= music_df[\"genre\"].values.reshape(-1,1)\n",
    "x_num = music_df.drop([\"genre\",\"popularity\"],axis=1).values\n",
    "y=music_df[\"popularity\"].values\n",
    "x_train_cat, x_test_cat, y_train, y_test = train_test_split(x_cat, y, test_size=0.2, random_state=12)\n",
    "x_train_num, x_test_num, y_train, y_test = train_test_split(x_num, y, test_size=0.2, random_state=12)\n",
    "imp_cat=SimpleImputer(strategy=\"most_frequent\")\n",
    "x_train_Cat=imp_cat.fit_transform(x_train_cat)\n",
    "x_test_cat=imp_cat.tranform(x_test_cat)\n",
    "'''"
   ]
  },
  {
   "cell_type": "markdown",
   "id": "25bf6cdc-975b-41c8-ba53-aa2095a9e2a2",
   "metadata": {},
   "source": [
    "'''\n",
    "\n",
    "imp_num = SimpleImputer()\n",
    "\n",
    "x_train_num = imp_num.fit_transform(x_train_num)\n",
    "\n",
    "x_test_num = imp_num.transform(x_test_num)\n",
    "\n",
    "x_train = np.append(x_train_num, x_train_cat, axis=1)\n",
    "\n",
    "x_test = np.append(x_test_num, x_test_cat, axis=1)\n",
    "\n",
    "'''\n",
    "- imputers are known as transformers"
   ]
  },
  {
   "cell_type": "code",
   "execution_count": 17,
   "id": "7a5f0252-0926-429e-9d00-bb039fd80215",
   "metadata": {},
   "outputs": [
    {
     "data": {
      "text/plain": [
       "'\\nsteps = [(\"imputation\", SimpleImputer()), (\"logistic_regression\", LogisticRegression())]\\npipeline = Pipeline(steps)\\nx_train, x_test, y_train, y_test = train_test_split(x,y,test_size=0.3, random_state=42)\\npipeline.fit(x_train, y_train)\\npipeline.score(x_test, y_test)\\n'"
      ]
     },
     "execution_count": 17,
     "metadata": {},
     "output_type": "execute_result"
    }
   ],
   "source": [
    "# imputing within a pipeline\n",
    "\n",
    "'''\n",
    "from sklearn.pipeline import Pipeline\n",
    "music_df = music_df.dropna(subset=[\"genre\",\"popularity\",\"loudness\",\"liveness\",\"tempo\"])\n",
    "music_df[\"genre\"] = np.where(music_df[\"genre\"] == \"Rock\",1,0)\n",
    "x = music_df.drop(\"genre\",axis=1).values\n",
    "y = music_df[\"genre\"].values\n",
    "'''\n",
    "\n",
    "# to build a pipeline we construct a list\n",
    "\n",
    "'''\n",
    "steps = [(\"imputation\", SimpleImputer()), (\"logistic_regression\", LogisticRegression())]\n",
    "pipeline = Pipeline(steps)\n",
    "x_train, x_test, y_train, y_test = train_test_split(x,y,test_size=0.3, random_state=42)\n",
    "pipeline.fit(x_train, y_train)\n",
    "pipeline.score(x_test, y_test)\n",
    "'''"
   ]
  },
  {
   "cell_type": "markdown",
   "id": "27a01776-d650-4f71-b53f-f245e50f6e15",
   "metadata": {},
   "source": [
    "Centering and scaling\n",
    "\n",
    "why scale our data?\n",
    "- many models use some form of distance to inform them\n",
    "- features on large scales can disproportionately influence the model\n",
    "- Example: KNN uses distance explicitly when making predictions\n",
    "- we want features to be on a similar scale\n",
    "- normalizing or standardizing (scaling and centering)\n",
    "\n",
    "How to scale our data?\n",
    "- subtract the mean and divide by variance\n",
    "  - all features are centered around zero and have a variance of one\n",
    "  - this is called standardization\n",
    "- can also subtract the minimum and divide by the range\n",
    "  - minimum zero and maximum one\n",
    "- can also normalize so the data ranges from -1 to +1"
   ]
  },
  {
   "cell_type": "code",
   "execution_count": 21,
   "id": "219dbf13-142e-47b6-b485-7b14e7bfbe4e",
   "metadata": {},
   "outputs": [
    {
     "data": {
      "text/plain": [
       "' \\nfrom sklearn.model_selection import GridSearchCV\\nsteps = [(\\'scaler\\', StandardScaler()), (\\'knn\\',KNeighborsClassifier())]\\npipeline = Pipeline(steps)\\nparameters = {\"knn__n_neighbors\":np.arange(1,50)}\\nx_train, x_test, y_train, y_test = train_test_split(x,y, test_size=0.2,random_state=21)\\ncv = GridSearchCV(pipeline, param_grid=parameters)\\ncv.fit(x_train, y_train)\\ny_pred = cv.predict(x_test)\\nprint(cv.best_score_)\\n'"
      ]
     },
     "execution_count": 21,
     "metadata": {},
     "output_type": "execute_result"
    }
   ],
   "source": [
    "#scaling in sklearn\n",
    "\n",
    "'''\n",
    "from sklearn.preprocessing import StandardScaler\n",
    "x= music_df.drop(\"genre\",axis=1).values\n",
    "y= music_df[\"genre\"].values\n",
    "x_train, x_test, y_train, y_test = train_test_split(x,y,test_size=0.2,random_state=42)\n",
    "scaler = StandardScaler()\n",
    "x_train_scaled = scaler.fit_transform(x_train)\n",
    "x_test_scaled = scaler.transform(x_test)\n",
    "print(np.mean(x), np.std(x))\n",
    "print(np.mean(x_train_scaled), np.std(x_train_scaled))\n",
    "'''\n",
    "\n",
    "## scaling in a pipeline\n",
    "\n",
    "'''\n",
    "steps = [('scaler',StandardScaler()),('knn',KNeighborsClassifier(n_neighbors=6))]\n",
    "pipeline = Pipeline(steps)\n",
    "x_train, x_test, y_train, y_test = train_test_split(x,y,test_size=0.2,random_state=21)\n",
    "knn.scaled = pipeline.fit(x+train, y_train)\n",
    "y_pred = knn_scaled.predict(x_test)\n",
    "print(knn_scaled.score(x_test, y_test))\n",
    "'''\n",
    "\n",
    "#CV and scaling in a pipeline\n",
    "\n",
    "''' \n",
    "from sklearn.model_selection import GridSearchCV\n",
    "steps = [('scaler', StandardScaler()), ('knn',KNeighborsClassifier())]\n",
    "pipeline = Pipeline(steps)\n",
    "parameters = {\"knn__n_neighbors\":np.arange(1,50)}\n",
    "x_train, x_test, y_train, y_test = train_test_split(x,y, test_size=0.2,random_state=21)\n",
    "cv = GridSearchCV(pipeline, param_grid=parameters)\n",
    "cv.fit(x_train, y_train)\n",
    "y_pred = cv.predict(x_test)\n",
    "print(cv.best_score_)\n",
    "'''\n"
   ]
  },
  {
   "attachments": {
    "396ffc1f-b35d-4d91-a552-71ad60e25edf.png": {
     "image/png": "[encoded data removed]"
    },
    "569b5a53-e61d-4fa2-ba7b-0c5bd22972d4.png": {
     "image/png": "[encoded data removed]"
    }
   },
   "cell_type": "markdown",
   "id": "6abf7658-3277-4557-884d-c478b4e30d0a",
   "metadata": {},
   "source": [
    "# what i've learnt in this course\n",
    "\n",
    "![image.png](attachment:396ffc1f-b35d-4d91-a552-71ad60e25edf.png)\n",
    "![image.png](attachment:569b5a53-e61d-4fa2-ba7b-0c5bd22972d4.png)"
   ]
  },
  {
   "cell_type": "code",
   "execution_count": null,
   "id": "0b2a03d1-0985-45a8-bb4f-5463dbacf870",
   "metadata": {},
   "outputs": [],
   "source": []
  }
 ],
 "metadata": {
  "kernelspec": {
   "display_name": "Python 3 (ipykernel)",
   "language": "python",
   "name": "python3"
  },
  "language_info": {
   "codemirror_mode": {
    "name": "ipython",
    "version": 3
   },
   "file_extension": ".py",
   "mimetype": "text/x-python",
   "name": "python",
   "nbconvert_exporter": "python",
   "pygments_lexer": "ipython3",
   "version": "3.11.7"
  }
 },
 "nbformat": 4,
 "nbformat_minor": 5
}
